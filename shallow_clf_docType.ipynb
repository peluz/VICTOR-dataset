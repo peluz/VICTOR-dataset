{
 "cells": [
  {
   "cell_type": "code",
   "execution_count": 2,
   "metadata": {},
   "outputs": [
    {
     "name": "stdout",
     "output_type": "stream",
     "text": [
      "The autoreload extension is already loaded. To reload it, use:\n",
      "  %reload_ext autoreload\n"
     ]
    }
   ],
   "source": [
    "%load_ext autoreload\n",
    "%autoreload 2\n",
    "\n",
    "import pandas as pd\n",
    "import numpy as np\n",
    "from tqdm import tqdm\n",
    "from sklearn.externals import joblib\n",
    "\n",
    "tqdm.pandas()"
   ]
  },
  {
   "cell_type": "code",
   "execution_count": 3,
   "metadata": {},
   "outputs": [],
   "source": [
    "train = pd.read_csv(\"../train_medium.csv\", usecols=[\"document_type\", \"body\"])\n",
    "valid = pd.read_csv(\"../validation_medium.csv\", usecols=[\"document_type\", \"body\"])\n",
    "test = pd.read_csv(\"../test_medium.csv\", usecols=[\"document_type\", \"body\"])"
   ]
  },
  {
   "cell_type": "code",
   "execution_count": 4,
   "metadata": {},
   "outputs": [],
   "source": [
    "def strip_trash(df, column=\"body\"):\n",
    "    df[column] = df[column].str.strip('{}\"')\n",
    "    return df"
   ]
  },
  {
   "cell_type": "code",
   "execution_count": 5,
   "metadata": {},
   "outputs": [
    {
     "data": {
      "text/plain": [
       "1466276"
      ]
     },
     "execution_count": 5,
     "metadata": {},
     "output_type": "execute_result"
    }
   ],
   "source": [
    "train_clean = strip_trash(train)\n",
    "valid_clean = strip_trash(valid)\n",
    "test_clean = strip_trash(test); len(train)"
   ]
  },
  {
   "cell_type": "code",
   "execution_count": 6,
   "metadata": {},
   "outputs": [],
   "source": [
    "del(train)\n",
    "del(valid)\n",
    "del(test)"
   ]
  },
  {
   "cell_type": "code",
   "execution_count": 7,
   "metadata": {},
   "outputs": [],
   "source": [
    "x_train, y_train = train_clean[\"body\"].values, train_clean[\"document_type\"].values"
   ]
  },
  {
   "cell_type": "code",
   "execution_count": 8,
   "metadata": {},
   "outputs": [],
   "source": [
    "x_valid, y_valid = valid_clean[\"body\"].values, valid_clean[\"document_type\"].values"
   ]
  },
  {
   "cell_type": "code",
   "execution_count": 9,
   "metadata": {},
   "outputs": [],
   "source": [
    "x_test, y_test = test_clean[\"body\"].values, test_clean[\"document_type\"].values"
   ]
  },
  {
   "cell_type": "code",
   "execution_count": 10,
   "metadata": {},
   "outputs": [
    {
     "data": {
      "text/plain": [
       "(1466276, 1466276, 309608, 309608, 311015, 311015)"
      ]
     },
     "execution_count": 10,
     "metadata": {},
     "output_type": "execute_result"
    }
   ],
   "source": [
    "len(x_train), len(y_train), len(x_valid), len(y_valid), len(x_test), len(y_test)"
   ]
  },
  {
   "cell_type": "code",
   "execution_count": 11,
   "metadata": {},
   "outputs": [],
   "source": [
    "del(train_clean)\n",
    "del(valid_clean)\n",
    "del(test_clean)"
   ]
  },
  {
   "cell_type": "code",
   "execution_count": 12,
   "metadata": {},
   "outputs": [],
   "source": [
    "from sklearn.pipeline import Pipeline\n",
    "from sklearn.feature_extraction.text import TfidfVectorizer\n",
    "from sklearn.svm import LinearSVC\n",
    "from sklearn.naive_bayes import MultinomialNB\n",
    "from xgboost.sklearn import XGBClassifier\n",
    "\n",
    "pipe_nb = Pipeline((\n",
    "    (\"vectorizer\", TfidfVectorizer(ngram_range=(1, 2), sublinear_tf=True,\n",
    "                                   min_df=2, max_df=0.5)),\n",
    "    (\"clf\", MultinomialNB(alpha=0.001, fit_prior=True))\n",
    "))\n",
    "\n",
    "pipe_svc = Pipeline((\n",
    "    (\"vectorizer\", TfidfVectorizer(ngram_range=(1, 2), sublinear_tf=True,\n",
    "                                   min_df=3, max_df=0.5)),\n",
    "    (\"clf\", LinearSVC(verbose=2, class_weight=\"balanced\"))\n",
    "))\n",
    "\n",
    "# parameters_vectorizer = {\n",
    "#     \"vectorizer__ngram_range\": [(1, 2)],\n",
    "#     \"vectorizer__sublinear_tf\": [True],\n",
    "#     \"vectorizer__min_df\": [1, 2, 3],\n",
    "#     \"vectorizer__max_df\": [0.5, 0.8, 1.]\n",
    "# }\n",
    "\n",
    "# parametersSVC = {\n",
    "#         \"clf__penalty\": [\"l2\"],\n",
    "#         \"clf__C\": [0.03, 1, 3, 10],\n",
    "#         \"clf__class_weight\": [\"balanced\"]\n",
    "# }\n",
    "\n",
    "# parametersSVC.update(parameters_vectorizer)\n",
    "\n",
    "# parametersNB = {\n",
    "#     \"clf__alpha\": [0.0001, 0.0003, 0.001],\n",
    "#     \"clf__fit_prior\": [True]\n",
    "# }\n",
    "\n",
    "# parametersNB.update(parameters_vectorizer)\n",
    "\n",
    "# parametersBoost = {\n",
    "#     \"clf__max_depth\": [3, 4, 5],\n",
    "#     \"clf__learning_rate\": [0.03, 0.1, 0.3],\n",
    "#     \"clf__n_estimators\": [100, 300, 1000, 3000]\n",
    "# }\n",
    "\n",
    "# parametersBoost.update(parameters_vectorizer)"
   ]
  },
  {
   "cell_type": "code",
   "execution_count": 13,
   "metadata": {},
   "outputs": [],
   "source": [
    "# from sklearn.model_selection import GridSearchCV, train_test_split\n",
    "\n",
    "# experiment, _, experiment_labels, _ = train_test_split(x_valid, y_valid, test_size=0.98, random_state=42,\n",
    "#                                                        stratify=y_valid)"
   ]
  },
  {
   "cell_type": "code",
   "execution_count": 14,
   "metadata": {},
   "outputs": [],
   "source": [
    "# clf = GridSearchCV(estimator=pipe_svc, param_grid=parametersSVC, verbose=10, n_jobs=15, scoring=\"f1_macro\")\n",
    "# clf.fit(experiment, experiment_labels)"
   ]
  },
  {
   "cell_type": "code",
   "execution_count": null,
   "metadata": {},
   "outputs": [],
   "source": [
    "# print(clf.best_params_)\n",
    "# clf.best_score_\n",
    "# pipe_svc = clf.best_estimator_\n",
    "\n",
    "pipe_svc.fit(x_train, y_train)"
   ]
  },
  {
   "cell_type": "code",
   "execution_count": null,
   "metadata": {},
   "outputs": [],
   "source": [
    "from sklearn.metrics import classification_report, accuracy_score\n",
    "\n",
    "preds_valid = pipe_svc.predict(x_valid)\n",
    "print(classification_report(y_valid, preds_valid, target_names=pipe_svc.classes_, digits=4))\n",
    "print(accuracy_score(y_valid, preds_valid))"
   ]
  },
  {
   "cell_type": "code",
   "execution_count": null,
   "metadata": {},
   "outputs": [],
   "source": [
    "preds_test = pipe_svc.predict(x_test)\n",
    "print(classification_report(y_test, preds_test, target_names=pipe_svc.classes_, digits=4))\n",
    "print(accuracy_score(y_test, preds_test))"
   ]
  },
  {
   "cell_type": "code",
   "execution_count": null,
   "metadata": {},
   "outputs": [],
   "source": [
    "# clf = GridSearchCV(estimator=pipe_nb, param_grid=parametersNB, verbose=10, n_jobs=15, scoring=\"f1_macro\")\n",
    "# clf.fit(experiment, experiment_labels)"
   ]
  },
  {
   "cell_type": "code",
   "execution_count": null,
   "metadata": {},
   "outputs": [],
   "source": [
    "# print(clf.best_params_)\n",
    "# clf.best_score_\n",
    "# pipe_nb = clf.best_estimator_\n",
    "\n",
    "pipe_nb.fit(x_train, y_train)"
   ]
  },
  {
   "cell_type": "code",
   "execution_count": null,
   "metadata": {
    "scrolled": true
   },
   "outputs": [],
   "source": [
    "preds_valid = pipe_nb.predict(x_valid)\n",
    "print(classification_report(y_valid, preds_valid, target_names=pipe_nb.classes_, digits=4))\n",
    "print(accuracy_score(y_valid, preds_valid))"
   ]
  },
  {
   "cell_type": "code",
   "execution_count": null,
   "metadata": {},
   "outputs": [],
   "source": [
    "preds_test = pipe_nb.predict(x_test)\n",
    "print(classification_report(y_test, preds_test, target_names=pipe_nb.classes_, digits=4))\n",
    "print(accuracy_score(y_test, preds_test))"
   ]
  },
  {
   "cell_type": "code",
   "execution_count": null,
   "metadata": {},
   "outputs": [],
   "source": [
    "joblib.dump(pipe_nb, './models/nb_clf_small.pkl')\n",
    "joblib.dump(pipe_svc, './models/svc_clf_small.pkl')"
   ]
  },
  {
   "cell_type": "code",
   "execution_count": null,
   "metadata": {},
   "outputs": [],
   "source": []
  }
 ],
 "metadata": {
  "kernelspec": {
   "display_name": "Python 3",
   "language": "python",
   "name": "python3"
  },
  "language_info": {
   "codemirror_mode": {
    "name": "ipython",
    "version": 3
   },
   "file_extension": ".py",
   "mimetype": "text/x-python",
   "name": "python",
   "nbconvert_exporter": "python",
   "pygments_lexer": "ipython3",
   "version": "3.7.2"
  },
  "toc": {
   "base_numbering": 1,
   "nav_menu": {},
   "number_sections": false,
   "sideBar": true,
   "skip_h1_title": false,
   "title_cell": "Table of Contents",
   "title_sidebar": "Contents",
   "toc_cell": false,
   "toc_position": {},
   "toc_section_display": true,
   "toc_window_display": false
  }
 },
 "nbformat": 4,
 "nbformat_minor": 2
}
