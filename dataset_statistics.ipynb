{
 "cells": [
  {
   "cell_type": "code",
   "execution_count": null,
   "metadata": {},
   "outputs": [],
   "source": [
    "import pandas as pd\n",
    "import numpy as np\n",
    "from tqdm import tqdm\n",
    "import pickle\n",
    "\n",
    "tqdm.pandas()"
   ]
  },
  {
   "cell_type": "code",
   "execution_count": null,
   "metadata": {},
   "outputs": [],
   "source": [
    "train = pd.read_csv(\"../train.csv\")\n",
    "valid = pd.read_csv(\"../validation.csv\")\n",
    "test = pd.read_csv(\"../test.csv\")"
   ]
  },
  {
   "cell_type": "code",
   "execution_count": null,
   "metadata": {},
   "outputs": [],
   "source": [
    "train.head()"
   ]
  },
  {
   "cell_type": "code",
   "execution_count": null,
   "metadata": {},
   "outputs": [],
   "source": [
    "suit_count = len(train.drop_duplicates(\"process_id\")) + len(valid.drop_duplicates(\"process_id\")) + len(test.drop_duplicates(\"process_id\"))\n",
    "doc_count  = len(train.loc[train[\"pages\"] == 1]) + len(valid.loc[valid[\"pages\"] == 1 ]) + len(test.loc[test[\"pages\"] == 1])\n",
    "suit_count, doc_count"
   ]
  },
  {
   "cell_type": "code",
   "execution_count": null,
   "metadata": {},
   "outputs": [],
   "source": [
    "len(train) + len(valid) + len(test)"
   ]
  },
  {
   "cell_type": "code",
   "execution_count": null,
   "metadata": {},
   "outputs": [],
   "source": [
    "train_pages = train[\"document_type\"].value_counts()\n",
    "valid_pages = valid[\"document_type\"].value_counts()\n",
    "test_pages = test[\"document_type\"].value_counts()\n",
    "train_pages, valid_pages, test_pages"
   ]
  },
  {
   "cell_type": "code",
   "execution_count": null,
   "metadata": {},
   "outputs": [],
   "source": [
    "train_docs = train.loc[train[\"pages\"] == 1][\"document_type\"].value_counts()\n",
    "valid_docs = valid.loc[valid[\"pages\"] == 1][\"document_type\"].value_counts()\n",
    "test_docs = test.loc[test[\"pages\"] == 1][\"document_type\"].value_counts()\n",
    "train_docs, valid_docs, test_docs"
   ]
  },
  {
   "cell_type": "code",
   "execution_count": null,
   "metadata": {},
   "outputs": [],
   "source": [
    "def type_distribution_by_page(df):\n",
    "    df_count = df.groupby(\"document_type\").count()\n",
    "    return pd.DataFrame(data= {\"Category\": df_count.index.values, \"Pages\": df_count.themes.values})"
   ]
  },
  {
   "cell_type": "code",
   "execution_count": null,
   "metadata": {},
   "outputs": [],
   "source": [
    "def type_distribution_by_document(df):\n",
    "    df_count = df.loc[df[\"pages\"] == 1].groupby(\"document_type\").count()\n",
    "    return pd.DataFrame(data= {\"Category\": df_count.index.values, \"Documents\": df_count.themes.values})"
   ]
  },
  {
   "cell_type": "code",
   "execution_count": null,
   "metadata": {},
   "outputs": [],
   "source": [
    "train_count_docs = type_distribution_by_document(train)\n",
    "valid_count_docs = type_distribution_by_document(valid)\n",
    "test_count_docs = type_distribution_by_document(test)"
   ]
  },
  {
   "cell_type": "code",
   "execution_count": null,
   "metadata": {},
   "outputs": [],
   "source": [
    "train_count_pages = type_distribution_by_page(train)\n",
    "valid_count_pages = type_distribution_by_page(valid)\n",
    "test_count_pages = type_distribution_by_page(test)"
   ]
  },
  {
   "cell_type": "code",
   "execution_count": null,
   "metadata": {},
   "outputs": [],
   "source": [
    "type_dist = pd.DataFrame()\n",
    "type_dist[\"dataset\"] = [\" \"]*len(train_count_pages)\n",
    "type_dist[\"Category\"] = train_count_pages.Category.values\n",
    "type_dist = pd.merge(type_dist, train_count_docs[[\"Category\", \"Documents\"]], on=\"Category\", sort=False, how=\"left\")\n",
    "type_dist = pd.merge(type_dist, train_count_pages[[\"Category\", \"Pages\"]], on=\"Category\", sort=False, how=\"left\")\n",
    "type_dist = pd.merge(type_dist, valid_count_docs[[\"Category\", \"Documents\"]], on=\"Category\", sort=False, how=\"left\")\n",
    "type_dist = pd.merge(type_dist, valid_count_pages[[\"Category\", \"Pages\"]], on=\"Category\", sort=False, how=\"left\")\n",
    "type_dist = pd.merge(type_dist, test_count_docs[[\"Category\", \"Documents\"]], on=\"Category\", sort=False, how=\"left\")\n",
    "type_dist = pd.merge(type_dist, test_count_pages[[\"Category\", \"Pages\"]], on=\"Category\", sort=False, how=\"left\")"
   ]
  },
  {
   "cell_type": "code",
   "execution_count": null,
   "metadata": {},
   "outputs": [],
   "source": [
    "pd.set_option(\"float_format\", '{:,}'.format)\n",
    "pd.set_option('precision', 0)\n",
    "type_dist.loc[:, \"Documents_x\":] = type_dist.loc[:, \"Documents_x\":].apply(pd.to_numeric, downcast=\"float\"); type_dist"
   ]
  },
  {
   "cell_type": "code",
   "execution_count": null,
   "metadata": {
    "scrolled": true
   },
   "outputs": [],
   "source": [
    "print(type_dist.to_latex(index=False))"
   ]
  },
  {
   "cell_type": "code",
   "execution_count": null,
   "metadata": {},
   "outputs": [],
   "source": [
    "themes = {\"5\", \"6\", \"26\", \"33\", \"139\", \"163\", \"232\", \"313\", \"339\", \"350\", \"406\", \"409\", \"555\", \"589\",\n",
    "         \"597\", \"634\", \"660\", \"695\", \"729\", \"766\", \"773\", \"793\", \"800\", \"810\", \"852\", \"895\", \"951\", \"975\"}"
   ]
  },
  {
   "cell_type": "code",
   "execution_count": null,
   "metadata": {},
   "outputs": [],
   "source": [
    "def replace_others(sentence):\n",
    "    sentence = sentence.strip(\"[]\")\n",
    "    numbers = sentence.split(\",\")\n",
    "    new_numbers = list({x.strip(\" \") if x.strip(\" \") in themes else \"0\" for x in numbers})\n",
    "    return \",\".join(new_numbers)\n",
    "\n",
    "def rename_others(df, theme_col=\"themes\"):\n",
    "    df[theme_col] = df[theme_col].progress_apply(replace_others)\n",
    "    return df"
   ]
  },
  {
   "cell_type": "code",
   "execution_count": null,
   "metadata": {},
   "outputs": [],
   "source": [
    "train = rename_others(train)\n",
    "valid = rename_others(valid)\n",
    "test = rename_others(test)"
   ]
  },
  {
   "cell_type": "code",
   "execution_count": null,
   "metadata": {
    "scrolled": true
   },
   "outputs": [],
   "source": [
    "def disentangle_themes(df, lst_col=\"themes\"):\n",
    "    x = df.assign(**{lst_col:df[lst_col].str.split(\",\")})\n",
    "    \n",
    "    return pd.DataFrame({\n",
    "            col:np.repeat(x[col].values, x[lst_col].str.len())\n",
    "            for col in x.columns.difference([lst_col])\n",
    "        }).assign(**{lst_col:np.concatenate(x[lst_col].values)})[x.columns.tolist()]\n",
    "    "
   ]
  },
  {
   "cell_type": "code",
   "execution_count": null,
   "metadata": {},
   "outputs": [],
   "source": [
    "train = disentangle_themes(train)\n",
    "valid = disentangle_themes(valid)\n",
    "test = disentangle_themes(test)"
   ]
  },
  {
   "cell_type": "code",
   "execution_count": null,
   "metadata": {},
   "outputs": [],
   "source": [
    "def theme_distribution_by_process(df):\n",
    "    df_count = df.drop_duplicates([\"themes\", \"process_id\"]).groupby(\"themes\").count()\n",
    "    df_count.index = pd.to_numeric(df_count.index)\n",
    "    return pd.DataFrame(data= {\"themes\": df_count.index.values, \"process_count\": df_count.process_id.values}).sort_values(\"themes\", axis=0).reset_index()"
   ]
  },
  {
   "cell_type": "code",
   "execution_count": null,
   "metadata": {},
   "outputs": [],
   "source": [
    "train_count_process = theme_distribution_by_process(train)"
   ]
  },
  {
   "cell_type": "code",
   "execution_count": null,
   "metadata": {},
   "outputs": [],
   "source": [
    "valid_count_process = theme_distribution_by_process(valid); valid_count_process"
   ]
  },
  {
   "cell_type": "code",
   "execution_count": null,
   "metadata": {},
   "outputs": [],
   "source": [
    "test_count_process = theme_distribution_by_process(test); test_count_process"
   ]
  },
  {
   "cell_type": "code",
   "execution_count": null,
   "metadata": {},
   "outputs": [],
   "source": [
    "def theme_distribution_by_page(df):\n",
    "    df_count = df.groupby(\"themes\").count()\n",
    "    df_count.index = pd.to_numeric(df_count.index)\n",
    "    return pd.DataFrame(data= {\"themes\": df_count.index.values, \"process_count\": df_count.process_id.values}).sort_values(\"themes\", axis=0).reset_index()"
   ]
  },
  {
   "cell_type": "code",
   "execution_count": null,
   "metadata": {},
   "outputs": [],
   "source": [
    "train_count_pages = theme_distribution_by_page(train)"
   ]
  },
  {
   "cell_type": "code",
   "execution_count": null,
   "metadata": {},
   "outputs": [],
   "source": [
    "valid_count_pages = theme_distribution_by_page(valid)"
   ]
  },
  {
   "cell_type": "code",
   "execution_count": null,
   "metadata": {},
   "outputs": [],
   "source": [
    "test_count_pages = theme_distribution_by_page(test)"
   ]
  },
  {
   "cell_type": "code",
   "execution_count": null,
   "metadata": {},
   "outputs": [],
   "source": [
    "final_table = pd.DataFrame()\n",
    "final_table[\"dataset\"] = [\" \"]*len(train_count_pages); final_table"
   ]
  },
  {
   "cell_type": "code",
   "execution_count": null,
   "metadata": {},
   "outputs": [],
   "source": [
    "final_table[\"themes\"] = train_count_process.themes.values; final_table"
   ]
  },
  {
   "cell_type": "code",
   "execution_count": null,
   "metadata": {},
   "outputs": [],
   "source": [
    "final_table = pd.merge(final_table, train_count_process[[\"process_count\", \"themes\"]], on=\"themes\", sort=False, how=\"left\")\n",
    "final_table"
   ]
  },
  {
   "cell_type": "code",
   "execution_count": null,
   "metadata": {},
   "outputs": [],
   "source": [
    "final_table = pd.merge(final_table, train_count_pages[[\"process_count\", \"themes\"]], on=\"themes\", sort=False, how=\"left\").fillna(0)\n",
    "final_table = pd.merge(final_table, valid_count_process[[\"process_count\", \"themes\"]], on=\"themes\", sort=False, how=\"left\").fillna(0)\n",
    "final_table = pd.merge(final_table, valid_count_pages[[\"process_count\", \"themes\"]], on=\"themes\", sort=False, how=\"left\").fillna(0)\n",
    "final_table = pd.merge(final_table, test_count_process[[\"process_count\", \"themes\"]], on=\"themes\", sort=False, how=\"left\").fillna(0)\n",
    "final_table = pd.merge(final_table, test_count_pages[[\"process_count\", \"themes\"]], on=\"themes\", sort=False, how=\"left\").fillna(0)\n",
    "final_table.columns=[\"dataset\", \"themes\", \"train_docs\", \"train_pages\", \"valid_docs\", \"valid_pages\", \"test_docs\", \"test_pages\"]"
   ]
  },
  {
   "cell_type": "code",
   "execution_count": null,
   "metadata": {},
   "outputs": [],
   "source": [
    "# pd.set_option(\"float_format\", '{:,}'.format)\n",
    "# pd.set_option('precision', 0)\n",
    "# final_table.loc[:, final_table.columns != \"dataset\"] = final_table.loc[:, final_table.columns != \"dataset\"].apply(pd.to_numeric, downcast=\"float\")\n",
    "final_table"
   ]
  },
  {
   "cell_type": "code",
   "execution_count": null,
   "metadata": {},
   "outputs": [],
   "source": [
    "print(final_table.to_latex(index=False))"
   ]
  },
  {
   "cell_type": "code",
   "execution_count": null,
   "metadata": {},
   "outputs": [],
   "source": [
    "%matplotlib inline\n",
    "import matplotlib.pyplot as plt\n",
    "\n",
    "ax_themes = final_table.plot(x=\"themes\", y=[\"train_docs\", \"valid_docs\", \"test_docs\"], kind=\"bar\",stacked=True, figsize=(8,6),\n",
    "                fontsize=12)\n",
    "ax_themes.legend([\"Train set\", \"Validation set\", \"Test set\"], prop={\"size\": 14})\n",
    "ax_themes.set_xlabel(\"Themes\", size=14)\n",
    "ax_themes.set_ylabel(\"Suits\", size=14)\n",
    "ax_themes.set_title(\"Theme Distribution (Medium)\", size=14)\n",
    "ax_themes.get_figure().savefig(\"plots/medium_theme_distribution.pdf\")"
   ]
  },
  {
   "cell_type": "code",
   "execution_count": null,
   "metadata": {},
   "outputs": [],
   "source": []
  }
 ],
 "metadata": {
  "kernelspec": {
   "display_name": "Python 3",
   "language": "python",
   "name": "python3"
  },
  "language_info": {
   "codemirror_mode": {
    "name": "ipython",
    "version": 3
   },
   "file_extension": ".py",
   "mimetype": "text/x-python",
   "name": "python",
   "nbconvert_exporter": "python",
   "pygments_lexer": "ipython3",
   "version": "3.7.2"
  },
  "toc": {
   "base_numbering": 1,
   "nav_menu": {},
   "number_sections": false,
   "sideBar": true,
   "skip_h1_title": false,
   "title_cell": "Table of Contents",
   "title_sidebar": "Contents",
   "toc_cell": false,
   "toc_position": {},
   "toc_section_display": true,
   "toc_window_display": false
  }
 },
 "nbformat": 4,
 "nbformat_minor": 2
}
